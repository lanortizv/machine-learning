{
 "cells": [
  {
   "cell_type": "code",
   "execution_count": 1,
   "metadata": {},
   "outputs": [],
   "source": [
    "#import libraries\n",
    "import numpy as np\n",
    "import matplotlib.pyplot as plt"
   ]
  },
  {
   "cell_type": "code",
   "execution_count": 2,
   "metadata": {},
   "outputs": [],
   "source": [
    "#hypothesis function\n",
    "def hypothesis(w,x):\n",
    "    return x@w.T"
   ]
  },
  {
   "cell_type": "code",
   "execution_count": 3,
   "metadata": {},
   "outputs": [],
   "source": [
    "#gradient descent algorithm\n",
    "def gradient_descent(w,j_grad,alpha=0.001):\n",
    "   return w-alpha*j_grad"
   ]
  },
  {
   "cell_type": "code",
   "execution_count": 4,
   "metadata": {},
   "outputs": [],
   "source": [
    "#cost function for a linear ecuation\n",
    "def cost_function(y,x,w):\n",
    "    h_x=hypothesis(w,x)\n",
    "    j=(np.sum(np.square(h_x-y.T)))/2*y.shape[0]\n",
    "    j_grad=(1/y.shape[0])*((h_x-y.T).T)@x\n",
    "    return j,j_grad"
   ]
  },
  {
   "cell_type": "code",
   "execution_count": 10,
   "metadata": {
    "scrolled": true
   },
   "outputs": [
    {
     "data": {
      "image/png": "[encoded data removed]",
      "text/plain": [
       "<Figure size 432x288 with 1 Axes>"
      ]
     },
     "metadata": {
      "needs_background": "light"
     },
     "output_type": "display_data"
    },
    {
     "name": "stdout",
     "output_type": "stream",
     "text": [
      "predict value with pre-trained model\n",
      "[[4.99990034]]\n"
     ]
    }
   ],
   "source": [
    "#main\n",
    "#examples of values \n",
    "w=np.random.random((1,3))\n",
    "x=np.array([[1,2,5],[1,3,4],[1,4,3],[1,5,2]])\n",
    "y=np.array([[1,2,3,4]])\n",
    "\n",
    "#for ploting the cost function\n",
    "history=[]\n",
    "for i in range(1,1000):\n",
    "    cost_fun=cost_function(y,x,w)\n",
    "    history.append(cost_fun[0])\n",
    "    plt.plot(cost_fun[0],label='linear')\n",
    "    w=gradient_descent(w,cost_fun[1])\n",
    "plt.plot(history)\n",
    "plt.show()\n",
    "print(\"predicted value with trained model\")\n",
    "print(hypothesis(w,np.array([[1,6,1]])))\n",
    "\n",
    "    "
   ]
  }
 ],
 "metadata": {
  "kernelspec": {
   "display_name": "Python 3",
   "language": "python",
   "name": "python3"
  },
  "language_info": {
   "codemirror_mode": {
    "name": "ipython",
    "version": 3
   },
   "file_extension": ".py",
   "mimetype": "text/x-python",
   "name": "python",
   "nbconvert_exporter": "python",
   "pygments_lexer": "ipython3",
   "version": "3.6.3"
  }
 },
 "nbformat": 4,
 "nbformat_minor": 2
}
